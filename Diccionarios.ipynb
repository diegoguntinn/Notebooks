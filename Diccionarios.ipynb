{
 "cells": [
  {
   "cell_type": "markdown",
   "metadata": {},
   "source": [
    "# Dictionaries"
   ]
  },
  {
   "cell_type": "markdown",
   "metadata": {},
   "source": [
    "### Basci Dictionary Operations"
   ]
  },
  {
   "cell_type": "code",
   "execution_count": null,
   "metadata": {},
   "outputs": [],
   "source": [
    "D = {'spam': 2, 'ham': 1, 'eggs': 3}    # Make a dictionary\n",
    "D['spam']                               # Fetch a value by key\n",
    "2\n",
    "D                                       # Order is \"scrambled\"\n",
    "{'eggs': 3, 'spam': 2, 'ham': 1}"
   ]
  },
  {
   "cell_type": "code",
   "execution_count": null,
   "metadata": {},
   "outputs": [],
   "source": [
    "len(D)                     # Number of entries in dictionary\n",
    "3\n",
    "'ham' in D                 # Key membership test alternative\n",
    "True\n",
    "list(D.keys())             # Create a new list of D's keys\n",
    "['eggs', 'spam', 'ham']\n"
   ]
  },
  {
   "cell_type": "markdown",
   "metadata": {},
   "source": [
    "### Changing Dictionaries in Place"
   ]
  },
  {
   "cell_type": "code",
   "execution_count": null,
   "metadata": {},
   "outputs": [],
   "source": [
    "D\n",
    "{'eggs': 3, 'spam': 2, 'ham': 1}\n",
    "D['ham'] = ['grill', 'bake', 'fry'] # Change entry (value=list)\n",
    "D\n",
    "{'eggs': 3, 'spam': 2, 'ham': ['grill', 'bake', 'fry']}\n",
    "del D['eggs'] # Delete entry\n",
    "D\n",
    "{'spam': 2, 'ham': ['grill', 'bake', 'fry']}\n",
    "D['brunch'] = 'Bacon' # Add new entry\n",
    "D\n",
    "{'brunch': 'Bacon', 'spam': 2, 'ham': ['grill', 'bake', 'fry']}"
   ]
  },
  {
   "cell_type": "markdown",
   "metadata": {},
   "source": [
    "### More Dictionary Methods"
   ]
  },
  {
   "cell_type": "code",
   "execution_count": null,
   "metadata": {},
   "outputs": [],
   "source": [
    "D = {'spam': 2, 'ham': 1, 'eggs': 3}\n",
    "list(D.values())\n",
    "[3, 2, 1]\n",
    "list(D.items())\n",
    "[('eggs', 3), ('spam', 2), ('ham', 1)]"
   ]
  },
  {
   "cell_type": "code",
   "execution_count": null,
   "metadata": {},
   "outputs": [],
   "source": [
    "D.get('spam')                           # A key that is there\n",
    "2\n",
    "print(D.get('toast'))                   # A key that is missing\n",
    "None\n",
    "D.get('toast', 88)\n",
    "88"
   ]
  },
  {
   "cell_type": "markdown",
   "metadata": {},
   "source": [
    "Pop method deletes a key from a dictionary and returns the value it had."
   ]
  },
  {
   "cell_type": "code",
   "execution_count": null,
   "metadata": {},
   "outputs": [],
   "source": [
    "D\n",
    "{'eggs': 3, 'muffin': 5, 'toast': 4, 'spam': 2, 'ham': 1}\n",
    "D.pop('muffin')\n",
    "5\n",
    "D.pop('toast')                     # Delete and return from a key\n",
    "4\n",
    "D\n",
    "{'eggs': 3, 'spam': 2, 'ham': 1}\n",
    "# pop a list by position\n",
    "L = ['aa', 'bb', 'cc', 'dd']\n",
    "L.pop()                            # Delete and return from the end\n",
    "'dd'\n",
    "L\n",
    "['aa', 'bb', 'cc']\n",
    "L.pop(1)                           # Delete from a specific position\n",
    "'bb'\n",
    "L\n",
    "['aa', 'cc']"
   ]
  },
  {
   "cell_type": "markdown",
   "metadata": {},
   "source": [
    "### Example: Movie Database"
   ]
  },
  {
   "cell_type": "code",
   "execution_count": null,
   "metadata": {},
   "outputs": [],
   "source": [
    "table = {'1975': 'Holy Grail', # Key: Value\n",
    "'1979': 'Life of Brian',\n",
    "'1983': 'The Meaning of Life'}\n",
    "\n",
    "year = '1983'\n",
    "movie = table[year] # dictionary[Key] => Value\n",
    "movie\n",
    "'The Meaning of Life'\n",
    "for year in table: # Same as: for year in table.keys()\n",
    "    print(year + '\\t' + table[year])\n",
    "...\n",
    "1979 Life of Brian\n",
    "1975 Holy Grail\n",
    "1983 The Meaning of Life"
   ]
  },
  {
   "cell_type": "markdown",
   "metadata": {},
   "source": [
    "### Dictionary Usage Notes"
   ]
  },
  {
   "cell_type": "markdown",
   "metadata": {},
   "source": [
    "Sequence operations don’t work: Dictionaries are mappings, not sequences concatenation\n",
    "(an ordered joining) and slicing (extracting a contiguous section) simply don’t apply.\n",
    "\n",
    "Assigning to new indexes adds entries.\n",
    "\n",
    "Keys need not always be strings: immutable objects work just as well e integers. Tuples dates and IP addresses User-defined class\n",
    "instance objects the proper protocol methods. Mutable objects such as lists, sets, and other dictionaries don’t work as keys,\n",
    "but are allowed as values."
   ]
  },
  {
   "cell_type": "markdown",
   "metadata": {},
   "source": [
    "### Other Ways to Make Dictionaries"
   ]
  },
  {
   "cell_type": "code",
   "execution_count": null,
   "metadata": {},
   "outputs": [],
   "source": [
    "{'name': 'Bob', 'age': 40} # Traditional literal expression\n",
    "D = {} # Assign by keys dynamically\n",
    "D['name'] = 'Bob'\n",
    "D['age'] = 40\n",
    "dict(name='Bob', age=40) # dict keyword argument form\n",
    "dict([('name', 'Bob'), ('age', 40)]) # dict key/value tuples form\n",
    "dict(zip(keyslist, valueslist)) # Zipped key/value tuples form (ahead)"
   ]
  }
 ],
 "metadata": {
  "kernelspec": {
   "display_name": "Python 3",
   "language": "python",
   "name": "python3"
  },
  "language_info": {
   "codemirror_mode": {
    "name": "ipython",
    "version": 3
   },
   "file_extension": ".py",
   "mimetype": "text/x-python",
   "name": "python",
   "nbconvert_exporter": "python",
   "pygments_lexer": "ipython3",
   "version": "3.12.6"
  }
 },
 "nbformat": 4,
 "nbformat_minor": 2
}
